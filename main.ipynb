{
 "cells": [
  {
   "cell_type": "markdown",
   "id": "28995e81",
   "metadata": {},
   "source": [
    "# Bài Kiểm Tra Nhóm \n",
    "\n",
    "| Họ Và Tên     | MSSV  |\n",
    "|---------------| --------|\n",
    "| Trần Hà Đăng | 22133012 |\n",
    "| Nguyễn Nam Hy | 22133029|\n",
    "| Nguyễn Minh Quang| 22133045|\n",
    "| Nguyễn Quốc Thịnh | 22133056 | \n",
    "| Lưu Vĩnh Tường | 22133064 |"
   ]
  },
  {
   "cell_type": "markdown",
   "id": "9be70a6f",
   "metadata": {},
   "source": [
    "- Đọc dữ liệu"
   ]
  },
  {
   "cell_type": "code",
   "execution_count": 79,
   "id": "f9d754d6",
   "metadata": {},
   "outputs": [
    {
     "name": "stdout",
     "output_type": "stream",
     "text": [
      "   Unnamed: 0   country                                        description  \\\n",
      "0           0     Italy  Aromas include tropical fruit, broom, brimston...   \n",
      "1           1  Portugal  This is ripe and fruity, a wine that is smooth...   \n",
      "2           2        US  Tart and snappy, the flavors of lime flesh and...   \n",
      "3           3        US  Pineapple rind, lemon pith and orange blossom ...   \n",
      "4           4        US  Much like the regular bottling from 2012, this...   \n",
      "\n",
      "                          designation  points  price           province  \\\n",
      "0                        Vulkà Bianco      87    NaN  Sicily & Sardinia   \n",
      "1                            Avidagos      87   15.0              Douro   \n",
      "2                                 NaN      87   14.0             Oregon   \n",
      "3                Reserve Late Harvest      87   13.0           Michigan   \n",
      "4  Vintner's Reserve Wild Child Block      87   65.0             Oregon   \n",
      "\n",
      "              region_1           region_2         taster_name  \\\n",
      "0                 Etna                NaN       Kerin O’Keefe   \n",
      "1                  NaN                NaN          Roger Voss   \n",
      "2    Willamette Valley  Willamette Valley        Paul Gregutt   \n",
      "3  Lake Michigan Shore                NaN  Alexander Peartree   \n",
      "4    Willamette Valley  Willamette Valley        Paul Gregutt   \n",
      "\n",
      "  taster_twitter_handle                                              title  \\\n",
      "0          @kerinokeefe                  Nicosia 2013 Vulkà Bianco  (Etna)   \n",
      "1            @vossroger      Quinta dos Avidagos 2011 Avidagos Red (Douro)   \n",
      "2           @paulgwine       Rainstorm 2013 Pinot Gris (Willamette Valley)   \n",
      "3                   NaN  St. Julian 2013 Reserve Late Harvest Riesling ...   \n",
      "4           @paulgwine   Sweet Cheeks 2012 Vintner's Reserve Wild Child...   \n",
      "\n",
      "          variety               winery  \n",
      "0     White Blend              Nicosia  \n",
      "1  Portuguese Red  Quinta dos Avidagos  \n",
      "2      Pinot Gris            Rainstorm  \n",
      "3        Riesling           St. Julian  \n",
      "4      Pinot Noir         Sweet Cheeks  \n"
     ]
    }
   ],
   "source": [
    "import pandas as pd  \n",
    "\n",
    "df = pd.read_csv('winemag-data-130k-v2.csv'); \n",
    "\n",
    "print(df.head(5)); \n"
   ]
  },
  {
   "cell_type": "markdown",
   "id": "61a2792d",
   "metadata": {},
   "source": [
    "- Kiểm tra số dòng, số cột"
   ]
  },
  {
   "cell_type": "code",
   "execution_count": 80,
   "id": "832ffa17",
   "metadata": {},
   "outputs": [
    {
     "name": "stdout",
     "output_type": "stream",
     "text": [
      "Số dòng, số cột:  (129971, 14)\n"
     ]
    }
   ],
   "source": [
    "print(\"Số dòng, số cột: \", df.shape)"
   ]
  },
  {
   "cell_type": "code",
   "execution_count": 81,
   "id": "6875e92a",
   "metadata": {},
   "outputs": [
    {
     "name": "stdout",
     "output_type": "stream",
     "text": [
      "<class 'pandas.core.frame.DataFrame'>\n",
      "RangeIndex: 129971 entries, 0 to 129970\n",
      "Data columns (total 14 columns):\n",
      " #   Column                 Non-Null Count   Dtype  \n",
      "---  ------                 --------------   -----  \n",
      " 0   Unnamed: 0             129971 non-null  int64  \n",
      " 1   country                129908 non-null  object \n",
      " 2   description            129971 non-null  object \n",
      " 3   designation            92506 non-null   object \n",
      " 4   points                 129971 non-null  int64  \n",
      " 5   price                  120975 non-null  float64\n",
      " 6   province               129908 non-null  object \n",
      " 7   region_1               108724 non-null  object \n",
      " 8   region_2               50511 non-null   object \n",
      " 9   taster_name            103727 non-null  object \n",
      " 10  taster_twitter_handle  98758 non-null   object \n",
      " 11  title                  129971 non-null  object \n",
      " 12  variety                129970 non-null  object \n",
      " 13  winery                 129971 non-null  object \n",
      "dtypes: float64(1), int64(2), object(11)\n",
      "memory usage: 13.9+ MB\n"
     ]
    }
   ],
   "source": [
    "df.info()"
   ]
  },
  {
   "cell_type": "markdown",
   "id": "2f9ff747",
   "metadata": {},
   "source": [
    "- Xóa các cột không cần thiết: "
   ]
  },
  {
   "cell_type": "code",
   "execution_count": 82,
   "id": "302ccc03",
   "metadata": {},
   "outputs": [],
   "source": [
    "df = df.drop(columns=[\n",
    "        'Unnamed: 0', 'designation', 'region_2', 'taster_name', 'taster_twitter_handle', 'title'\n",
    "])"
   ]
  },
  {
   "cell_type": "markdown",
   "id": "3dd714ca",
   "metadata": {},
   "source": [
    "- Kiểm tra các giá trị bị thiếu"
   ]
  },
  {
   "cell_type": "code",
   "execution_count": 83,
   "id": "3442d96f",
   "metadata": {},
   "outputs": [
    {
     "data": {
      "text/plain": [
       "country           63\n",
       "description        0\n",
       "points             0\n",
       "price           8996\n",
       "province          63\n",
       "region_1       21247\n",
       "variety            1\n",
       "winery             0\n",
       "dtype: int64"
      ]
     },
     "execution_count": 83,
     "metadata": {},
     "output_type": "execute_result"
    }
   ],
   "source": [
    "df.isna().sum()"
   ]
  },
  {
   "cell_type": "code",
   "execution_count": 84,
   "id": "0b9475dd",
   "metadata": {},
   "outputs": [],
   "source": [
    "df = df.drop_duplicates(); \n",
    "df = df.dropna(subset=['variety'])\n",
    "df = df.dropna(subset=['country'])\n",
    "\n",
    "df['price'] = df.groupby(['variety', 'country'])['price']\\\n",
    "                .transform('mean')\n",
    "\n",
    "df = df.dropna(subset=['price'])\n",
    "\n",
    "\n"
   ]
  },
  {
   "cell_type": "code",
   "execution_count": 85,
   "id": "8a5f0265",
   "metadata": {},
   "outputs": [
    {
     "name": "stdout",
     "output_type": "stream",
     "text": [
      "[ 28.1009772   25.02712032  18.59569075  19.3830721   44.64284933\n",
      "  19.42857143  22.54285714  34.16153846  16.15151515  33.61081081\n",
      "  55.12790698  42.14705882  30.6815052   45.65820433  28.23939612\n",
      "  36.37200737  35.59401709  33.73956044  28.59299065  23.42105263\n",
      "  39.98532844  19.87272727  20.78255034  20.5         14.6\n",
      "  45.32407407  21.98958333  20.16        12.87654321  15.04\n",
      "  52.16666667  16.66666667  36.19224283  17.85416667  19.15269461\n",
      "  35.11801242  49.42978965  34.85201306  77.63922764  58.54003906\n",
      "  58.93349169  39.92277992  31.4185022   25.19518717  28.5942029\n",
      "  19.97929607  20.71935484  33.10714286  18.79166667  29.41808806\n",
      "  22.8362069   18.75221239  17.30666667  29.09199134  24.71428571\n",
      "  15.26666667  22.88888889  24.83783784  38.95233333  32.8630137\n",
      "  67.1577693   20.85714286  23.14912281  18.64356436  19.8030303\n",
      "  50.34246575  29.89583333  41.8154055   20.13548387  25.43768997\n",
      "  36.87777778  15.41878453  57.42307692  34.42091153  40.16402116\n",
      "  20.1971831   21.          18.64256198  26.79681275  65.35661765\n",
      "  13.50660793  35.7944664   47.53125     40.          35.7173913\n",
      "  21.37142857  33.47115385  22.52380952  16.13461538  49.58333333\n",
      "  23.15384615  51.92857143  25.17037037  19.16042781  16.43877551\n",
      "  47.53687822  24.77108434  20.73648649  45.375       10.88888889\n",
      "  28.15151515  35.32118758  17.37362637  17.2826087   20.\n",
      "  27.16883117  34.02392344  35.04545455  33.19428571  24.13\n",
      "  19.6950495   38.06396588  34.2         53.6         48.15384615\n",
      "  44.71875     10.63636364  84.27310062  19.43939394  44.28947368\n",
      "  19.28865979  17.3         21.6380789   14.5         19.57105263\n",
      "  19.85972851  90.07692308 160.33333333  53.18421053  20.69154229\n",
      "  31.76632302  23.20454545  18.19502868  24.33333333  30.97727273\n",
      "  14.09305994  28.60483871  35.          19.98019802  31.09761722\n",
      "  36.38827258  32.72063492  32.36363636  22.05263158  28.77707006\n",
      "  21.22666667  17.2739726   38.62359551  47.14285714  41.01167315\n",
      "  20.55747126  25.          12.43703704  17.70833333  18.5\n",
      "  35.19262295  28.16216216  20.125       23.34782609  36.66666667\n",
      "  20.04587156  25.7         29.93023256  15.42857143  21.61627907\n",
      "  20.10869565  23.32258065  15.1         22.23741007  49.625\n",
      "  15.00299401  16.75        50.09734513  35.05714286  15.91194969\n",
      "  21.66972477  34.71627907  11.87179487  17.91666667  17.33333333\n",
      "  20.2         13.875       22.78947368  11.          32.4\n",
      "  30.          21.68275862  50.125       31.27586207   9.7\n",
      "  28.12857143  40.20588235  22.21428571  27.9009009   29.13333333\n",
      "  35.66666667  27.18439716  29.          16.33333333  42.08860759\n",
      "  14.33333333  12.57142857  14.47222222  17.30434783  19.3442623\n",
      "  39.3125      16.31578947  26.60416667  23.65789474  15.95918367\n",
      "  24.5         26.508       48.44298246  24.42857143  70.23658537\n",
      "  22.88429752  16.42857143  16.68181818  22.75        19.58270677\n",
      "  20.74545455  48.54545455  17.67346939  29.81666667  18.1\n",
      "  24.74603175  35.06521739  55.75172414  22.39403974  21.33333333\n",
      "  19.19083969  25.2173913   32.78571429  17.92857143  22.\n",
      "  10.          42.5         34.29166667  21.10526316  18.14893617\n",
      "  12.          24.2         34.04761905  32.60416667  32.26923077\n",
      "  29.87128713  35.22916667  37.68        20.67164179  22.01355932\n",
      "  28.08457711  17.91304348  34.48969072  24.          36.57692308\n",
      "  31.75        41.4         37.42307692  35.64705882  32.53846154\n",
      "  45.83333333  38.60714286  10.96153846  18.66666667  10.58333333\n",
      "  18.07692308  13.57142857  20.66666667  23.42857143  13.4\n",
      "  21.72727273  50.06060606  20.43333333  20.36363636  92.11023622\n",
      "  23.13157895  15.25        15.2         33.57608696  21.8\n",
      "  31.73529412  19.          10.76923077  47.625       36.92\n",
      "  44.66666667  26.          26.57894737  19.09230769  27.\n",
      "  31.53125     18.36842105  38.8          9.8         23.7804878\n",
      "  26.33333333  51.51351351  19.43564356  22.6         31.16666667\n",
      "  28.38095238  27.51415094  34.225       23.76785714  18.86666667\n",
      "  23.4         31.33333333  13.96938776  28.          46.33757962\n",
      "  18.          18.125       40.33333333  14.77777778  18.05882353\n",
      "  29.46666667  20.6875      24.74698795  14.          33.20634921\n",
      "  30.3         14.66666667  32.07936508  27.5         29.35294118\n",
      "  21.66666667  49.16666667  13.15789474  20.84375     49.\n",
      "  19.83333333  33.30188679  44.28571429  33.          33.375\n",
      "  22.25        24.37142857  10.41666667   7.5         20.77777778\n",
      "  29.4         15.77777778  20.92857143  24.9         40.52\n",
      "  19.73333333  20.73529412  26.8125      17.68        41.34782609\n",
      "  33.9         35.5         30.71428571  16.1         21.2\n",
      "  31.66037736  30.20512821  39.05555556  13.13043478  41.46666667\n",
      "  28.15463918  36.25        30.81395349  52.56140351  57.5\n",
      "  19.925       26.6875      58.4         21.57142857  19.81818182\n",
      "  15.          13.70967742  18.5625      25.73529412  23.70588235\n",
      "  16.          12.875       18.77777778  60.75384615  13.06153846\n",
      "  25.2972973   29.69565217  20.65517241  34.4375      19.43333333\n",
      "  20.57142857  29.89361702  17.66666667  55.15384615  32.23529412\n",
      "  23.07407407  28.42857143  12.9047619   25.13636364  31.54545455\n",
      "  22.33333333  22.83333333  27.33333333  36.53125     22.36363636\n",
      "  23.15463918  23.94444444  38.1         32.33333333  18.4\n",
      "  15.55        17.46666667  23.90909091  30.64285714  18.45\n",
      "  16.11538462  47.81818182  23.5         18.68181818  66.20652174\n",
      "  42.88461538  15.21875     16.81818182  34.66666667  23.86206897\n",
      "  36.83333333  45.46666667  20.75        18.41935484  48.\n",
      "  19.86666667  29.92105263  37.93617021  47.          32.80952381\n",
      "  14.63157895  42.89473684  11.91666667  13.          30.16666667\n",
      "  39.75        25.72727273  20.4         63.66666667  16.63157895\n",
      "  28.90909091  35.02173913  28.85714286  30.26315789  39.53333333\n",
      "  21.55555556  25.5         15.26        13.7         33.92783505\n",
      "  17.75        19.6         16.5625      17.          15.5\n",
      "  17.8         20.42857143  14.78571429  18.95238095  27.92857143\n",
      "  72.93333333  13.5         44.78947368  25.3125      30.42105263\n",
      "  30.53846154  11.8         22.27272727  59.08695652  30.25\n",
      "  52.43589744  27.57142857  28.5443038   62.5         14.54545455\n",
      "  75.          32.43589744  10.75         8.          36.5\n",
      "  27.25        12.5         44.          40.32352941  25.33333333\n",
      "  45.          26.27272727 105.5         22.8         20.03703704\n",
      "   9.          32.5         14.25        86.25        17.5\n",
      "  13.66666667  21.25        27.54166667  22.86206897  32.\n",
      "  38.1875      11.75        50.          47.36842105  48.76923077\n",
      "  29.2         15.4          8.875       28.72727273  11.41176471\n",
      "  13.8125      17.29411765  22.07692308  20.8         10.85714286\n",
      "  37.          12.86956522  13.33333333  59.42857143  27.61538462\n",
      "  51.          43.27272727  23.          85.          20.81578947\n",
      "  16.90909091  25.07692308  26.58823529  56.5         18.84615385\n",
      "  20.68421053  23.75        18.61538462  12.96        25.41666667\n",
      "  10.09090909  22.57142857  24.3         20.83333333  78.\n",
      "   9.75        25.4         10.5         42.15384615  22.54545455\n",
      "  52.33333333  29.14285714  45.5         24.18181818  16.72413793\n",
      "  22.4         21.5         29.81818182  31.46666667  21.6\n",
      "  25.6         21.04761905  26.25        24.4         49.1\n",
      "  41.2         18.23076923  32.3         48.83333333  25.8\n",
      "  26.40909091  20.19047619  18.33333333  38.66666667  22.5\n",
      "  37.43243243  37.75        46.66666667  37.5         17.77777778\n",
      "  65.35714286  17.42857143  27.8         52.71428571  31.\n",
      "  19.5         26.75        16.84615385  20.25        15.8\n",
      "  46.33333333  13.56        21.27272727  13.91666667  40.66666667\n",
      "  25.71428571  31.6         23.25        24.11111111  54.66666667\n",
      "  39.          26.26666667  29.5         24.83333333  70.09090909\n",
      "  39.66666667  38.28571429  52.           7.          20.90909091\n",
      "  21.30769231  15.33333333  11.21428571  29.66666667   9.28571429\n",
      "   7.25        14.2         30.8         38.          20.22222222\n",
      "  28.75        26.5         17.22222222  22.9         20.16666667\n",
      "  42.69230769  27.2962963   24.28571429  19.33333333  16.18181818\n",
      "  78.25       182.55555556  31.2         47.5         16.4\n",
      "  18.88888889  14.14285714  23.08333333 130.          12.375\n",
      "  13.25        54.33333333  16.5         21.71428571  23.83333333\n",
      "  11.46153846  31.66666667  30.42857143  30.75        16.875\n",
      "  11.3        144.          19.25        37.33333333  23.2\n",
      "  17.625       19.2          9.2         33.2         39.625\n",
      "  23.33333333  45.75        55.22222222  39.5         10.28571429\n",
      "  19.66666667   9.66666667  12.91666667  28.5         38.42857143\n",
      " 160.          29.33333333  18.75        31.85714286  35.28571429\n",
      "  65.          22.66666667  21.28571429  15.16666667  17.21428571\n",
      "  19.75        44.16666667  65.6         22.2         29.8\n",
      "  30.66666667  30.1         38.2        150.         113.33333333\n",
      "  20.33333333  12.2         50.16666667  89.8         45.33333333\n",
      "  31.5         29.11111111  23.375       43.          52.5\n",
      "  41.          34.75        20.9375     236.         100.\n",
      "  23.875       25.66666667  53.          46.5         59.33333333\n",
      "  24.6         77.5         13.8         65.33333333  11.5\n",
      "  45.25        58.69230769  36.          60.          25.83333333\n",
      "  27.44444444  18.57142857  27.66666667  69.          18.25\n",
      "  59.          16.8         16.85714286  27.23076923   8.5\n",
      "   6.          13.2         41.66666667  15.66666667  12.25\n",
      "  41.33333333  11.66666667  34.5         30.33333333  55.\n",
      "  33.33333333  15.91666667  27.85714286  36.33333333  12.71428571\n",
      " 120.           8.625       34.33333333  62.16666667  48.5\n",
      "  58.          50.28571429  23.66666667  24.66666667  37.85714286\n",
      "  61.33333333  35.4         61.5         15.75        66.5\n",
      "  34.          11.25        11.2         28.33333333  40.25\n",
      "  15.6         70.          76.          42.         230.\n",
      "  25.75       112.          33.5         30.5          7.33333333\n",
      " 495.          57.          43.5       ]\n"
     ]
    }
   ],
   "source": [
    "unique_price = df['price'].unique()\n",
    "print(unique_price)\n"
   ]
  },
  {
   "cell_type": "code",
   "execution_count": 86,
   "id": "e42e93b0",
   "metadata": {},
   "outputs": [],
   "source": [
    "df['region_1'] = df['region_1'].fillna('unknown')\n"
   ]
  },
  {
   "cell_type": "code",
   "execution_count": 87,
   "id": "817d7b9e",
   "metadata": {},
   "outputs": [
    {
     "data": {
      "text/plain": [
       "country        0\n",
       "description    0\n",
       "points         0\n",
       "price          0\n",
       "province       0\n",
       "region_1       0\n",
       "variety        0\n",
       "winery         0\n",
       "dtype: int64"
      ]
     },
     "execution_count": 87,
     "metadata": {},
     "output_type": "execute_result"
    }
   ],
   "source": [
    "df.isna().sum()"
   ]
  },
  {
   "cell_type": "code",
   "execution_count": 88,
   "id": "24080b18",
   "metadata": {},
   "outputs": [
    {
     "name": "stdout",
     "output_type": "stream",
     "text": [
      "    country                                        description  points  \\\n",
      "0     Italy  Aromas include tropical fruit, broom, brimston...      87   \n",
      "1  Portugal  This is ripe and fruity, a wine that is smooth...      87   \n",
      "2        US  Tart and snappy, the flavors of lime flesh and...      87   \n",
      "3        US  Pineapple rind, lemon pith and orange blossom ...      87   \n",
      "4        US  Much like the regular bottling from 2012, this...      87   \n",
      "5     Spain  Blackberry and raspberry aromas show a typical...      87   \n",
      "6     Italy  Here's a bright, informal red that opens with ...      87   \n",
      "7    France  This dry and restrained wine offers spice in p...      87   \n",
      "8   Germany  Savory dried thyme notes accent sunnier flavor...      87   \n",
      "9    France  This has great depth of flavor with its fresh ...      87   \n",
      "\n",
      "       price           province             region_1             variety  \\\n",
      "0  28.100977  Sicily & Sardinia                 Etna         White Blend   \n",
      "1  25.027120              Douro              unknown      Portuguese Red   \n",
      "2  18.595691             Oregon    Willamette Valley          Pinot Gris   \n",
      "3  19.383072           Michigan  Lake Michigan Shore            Riesling   \n",
      "4  44.642849             Oregon    Willamette Valley          Pinot Noir   \n",
      "5  19.428571     Northern Spain              Navarra  Tempranillo-Merlot   \n",
      "6  22.542857  Sicily & Sardinia             Vittoria            Frappato   \n",
      "7  34.161538             Alsace               Alsace      Gewürztraminer   \n",
      "8  16.151515        Rheinhessen              unknown      Gewürztraminer   \n",
      "9  33.610811             Alsace               Alsace          Pinot Gris   \n",
      "\n",
      "                winery  \n",
      "0              Nicosia  \n",
      "1  Quinta dos Avidagos  \n",
      "2            Rainstorm  \n",
      "3           St. Julian  \n",
      "4         Sweet Cheeks  \n",
      "5               Tandem  \n",
      "6      Terre di Giurfo  \n",
      "7             Trimbach  \n",
      "8          Heinz Eifel  \n",
      "9   Jean-Baptiste Adam  \n"
     ]
    }
   ],
   "source": [
    "print(df.head(10));"
   ]
  },
  {
   "cell_type": "code",
   "execution_count": 89,
   "id": "b581d63f",
   "metadata": {},
   "outputs": [
    {
     "data": {
      "text/plain": [
       "country         object\n",
       "description     object\n",
       "points           int64\n",
       "price          float64\n",
       "province        object\n",
       "region_1        object\n",
       "variety         object\n",
       "winery          object\n",
       "dtype: object"
      ]
     },
     "execution_count": 89,
     "metadata": {},
     "output_type": "execute_result"
    }
   ],
   "source": [
    "df.dtypes"
   ]
  }
 ],
 "metadata": {
  "kernelspec": {
   "display_name": "Python 3",
   "language": "python",
   "name": "python3"
  },
  "language_info": {
   "codemirror_mode": {
    "name": "ipython",
    "version": 3
   },
   "file_extension": ".py",
   "mimetype": "text/x-python",
   "name": "python",
   "nbconvert_exporter": "python",
   "pygments_lexer": "ipython3",
   "version": "3.13.3"
  }
 },
 "nbformat": 4,
 "nbformat_minor": 5
}
